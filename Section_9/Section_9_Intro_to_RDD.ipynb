{
 "cells": [
  {
   "cell_type": "markdown",
   "id": "7653f0d2",
   "metadata": {},
   "source": [
    "# Coding Section 3: Intro to Regression Discontinuity Designs\n",
    "## Econ 130\n",
    "GSIs: Ale Marchetti-Bowick and Alice Schmitz\n",
    "\n",
    "### Goals for today\n",
    "* Examine some summary statistics in small groups\n",
    "* Plot a RDD using the `rdplot` command from the `rdrobust` package"
   ]
  },
  {
   "cell_type": "markdown",
   "id": "5067cf33",
   "metadata": {},
   "source": [
    "## A few quick notes on the context (see the Section worksheet for more details)\n",
    "* Schools need buildings. They are typically funded by school districts issuing bonds: debt obligations that are paid back through increases in property taxes\n",
    "* Typically this is voted on because property taxes need to be used to fund them.\n",
    "* These are real data from an ongoing project by Professor Lafortune with Barbara Biasi (Yale) and David Schoenholzer (Stockholm University; UCB PhD 2018)"
   ]
  },
  {
   "cell_type": "code",
   "execution_count": 2,
   "id": "37cc0aa2",
   "metadata": {},
   "outputs": [],
   "source": [
    "rm(list = ls())\n",
    "## We will use rdrobust to help us plot the RDD. \n",
    "## It was preinstalled by us on Datahub, so you don't need to run the install.packages command first.\n",
    "library(rdrobust)\n",
    "\n",
    "## Read in the data\n",
    "## As before, refer to the codebook to learn what is contained in each variable\n",
    "raw_data <- read.csv(\"school_bonds.csv\")"
   ]
  },
  {
   "cell_type": "code",
   "execution_count": 4,
   "id": "a9202977",
   "metadata": {},
   "outputs": [],
   "source": [
    "## We want to keep a bandwidth of -0.15 to 0.15\n",
    "## The threshold is zero.\n",
    "## We will save this dataset.\n",
    "\n",
    "narrow_data <- raw_data[which(raw_data$margin >= -0.15 & raw_data$margin <= 0.15),]\n",
    "\n",
    "write.csv(narrow_data, \"school_bonds_narrow.csv\")"
   ]
  },
  {
   "cell_type": "markdown",
   "id": "108871ba",
   "metadata": {},
   "source": [
    "## Some checks prior to running the RDD\n",
    "Recall in lecture we talked about certain tests to run on the data so that we can have confidence that a RDD is an appropriate research design in this case. We will investigate:\n",
    "1. Did school districts actually follow the rules regarding bond passage? (\"Compliance\")\n",
    "2. Are there any signs of manipulation around the threshold? (\"Manipulation\")\n",
    "3. Do districts where bond passage barely passed truly resemble districts where bond passage barely failed? (\"Covariate Balance\")"
   ]
  },
  {
   "cell_type": "code",
   "execution_count": 5,
   "id": "52b61b1d",
   "metadata": {},
   "outputs": [
    {
     "data": {
      "text/plain": [
       "\n",
       "   1 \n",
       "3364 "
      ]
     },
     "metadata": {},
     "output_type": "display_data"
    },
    {
     "data": {
      "text/plain": [
       "\n",
       "   0 \n",
       "1532 "
      ]
     },
     "metadata": {},
     "output_type": "display_data"
    }
   ],
   "source": [
    "## 1. Compliance\n",
    "## What are the values of passbond above and below the margin? \n",
    "## What should they be if compliance is perfect?\n",
    "\n",
    "table(narrow_data[which(narrow_data$margin >0),]$passbond)\n",
    "table(narrow_data[which(narrow_data$margin <=0),]$passbond)"
   ]
  },
  {
   "cell_type": "code",
   "execution_count": 6,
   "id": "2749173a",
   "metadata": {},
   "outputs": [
    {
     "data": {
      "image/png": "[encoded data removed]",
      "text/plain": [
       "Plot with title “Histogram of narrow_data$margin”"
      ]
     },
     "metadata": {
      "image/png": {
       "height": 420,
       "width": 420
      }
     },
     "output_type": "display_data"
    }
   ],
   "source": [
    "## 2. Manipulation\n",
    "## Let's plot a histogram. Does anything look weird around the threshold?\n",
    "\n",
    "hist(narrow_data$margin)"
   ]
  },
  {
   "cell_type": "code",
   "execution_count": null,
   "id": "f51a9676",
   "metadata": {},
   "outputs": [],
   "source": [
    "## \"Covariate Balance\": let's check the following:\n",
    "## Do the means below and above the threshold (passbond == 1 and passbond == 0) look close?\n",
    "## Check this for both spending variables one year before the election\n",
    "## (l1cap_exp and l1noncap_exp). \n",
    "## Hint: use the `which` function like I did in the table example above.\n",
    "## Are the means similar? What are the pros and cons of this method?\n",
    "\n",
    "## Your code here:\n"
   ]
  },
  {
   "cell_type": "markdown",
   "id": "79f3027d",
   "metadata": {},
   "source": [
    "## Plotting the RDD"
   ]
  },
  {
   "cell_type": "code",
   "execution_count": null,
   "id": "49bc4529",
   "metadata": {},
   "outputs": [],
   "source": [
    "## Let's plot capital expenditure:\n",
    "\n",
    "rdplot(y = narrow_data$cap_exp, x = narrow_data$margin, c=0, p=1, \n",
    "       x.label = \"Vote Share (normalized)\", \n",
    "       y.label = \"Capital Expenditure\", \n",
    "       title = \"Regression Discontinuity, Capital Expenditures\")"
   ]
  },
  {
   "cell_type": "code",
   "execution_count": null,
   "id": "73cf5122",
   "metadata": {},
   "outputs": [],
   "source": [
    "## Hmm...\n",
    "\n",
    "## Oh, right. Spending doesn't increase until one year after the bond is approved!\n",
    "## But, the above is a good test of balance: no significant spending differences near \n",
    "## the threshold in the past. \n",
    "## This makes us less concerned that the l1cap_exp means aren't identical as we\n",
    "## found earlier.\n",
    "\n",
    "rdplot(y = narrow_data$f1cap_exp, x = narrow_data$margin, c=0, p=1, \n",
    "       x.label = \"Vote Share (normalized)\", \n",
    "       y.label = \"Capital Expenditure F1\", \n",
    "       title = \"Regression Discontinuity, Capital Expenditures one year after bond passage\")"
   ]
  },
  {
   "cell_type": "markdown",
   "id": "979ac1b0",
   "metadata": {},
   "source": [
    "Can we estimate the RDD causal effect from the figure? How?\n",
    "\n",
    "Try plotting these figures for some other variables, such as `f1noncap_exp` and also for years further into the future (f2, f3, etc).\n",
    "\n",
    "What did you find that was interesting?"
   ]
  }
 ],
 "metadata": {
  "kernelspec": {
   "display_name": "R",
   "language": "R",
   "name": "ir"
  },
  "language_info": {
   "codemirror_mode": "r",
   "file_extension": ".r",
   "mimetype": "text/x-r-source",
   "name": "R",
   "pygments_lexer": "r",
   "version": "4.3.1"
  }
 },
 "nbformat": 4,
 "nbformat_minor": 5
}
