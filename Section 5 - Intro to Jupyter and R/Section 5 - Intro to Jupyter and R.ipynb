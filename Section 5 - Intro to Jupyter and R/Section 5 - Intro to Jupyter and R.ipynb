{
 "cells": [
  {
   "cell_type": "markdown",
   "id": "9429681a",
   "metadata": {},
   "source": [
    "# Coding Section 1\n",
    "## Econ 130\n",
    "GSIs: Ale Marchetti-Bowick and Alice Schmitz\n",
    "\n",
    "### Goals for today\n",
    "* Introduce you to Jupyter Notebook environment and coding in R\n",
    "* Walk through the basic steps to read a dataset into R\n",
    "* Do some basic data exploration\n",
    "* I will be assuming very little experience with coding and R\n",
    "\n",
    "\n",
    "This notebook is intended to introduce you to the practical implementation of basic analytic techniques in R in Jupyter notebooks. R is an open-source statistical computing software used to analyze data. A Jupyter Notebook is an open-source web application that allows you to create and share documents that contain live code, equations, visualizations and narrative text that describes the output of our code. \n",
    "\n",
    "First, we will cover some basics on how to interact with the Jupyter Notebook environment. Then, we will introduce some R code, read a dataset into R, and do some basic data exploration.\n",
    "\n"
   ]
  },
  {
   "cell_type": "markdown",
   "id": "2f5c1b35",
   "metadata": {},
   "source": [
    "## Jupyter Notebook Basics\n",
    "* To create a new notebook, click the \"New\" button and select R\n",
    "* All Jupyter Notebooks are comprised of a collection of boxes called *cells*. We will be working with two types in this course: *Markdown* cells for text and *Code* cells for code.\n",
    "* Select a cell by clicking on it. \n",
    "    * If you single-click the cell, you will see a blue bar on the left. That means you are in *command mode*. You'll be able to see the Cell type in the dropdown list at the top of the page and you can use command mode keyboard shortcuts. You will not be able to edit the contents of the cell. Pressing `Esc` while in edit mode will take you into command mode.\n",
    "    * If you double-click the cell, you'll instead enter *edit mode*. The bar at the left will be green and you will be able to edit the contents of the cell. Pressing `Enter` while in command mode will take you into edit mode.\n",
    "* Create a  new cell by clicking the `+` icon at the top of the screen (under `File`) or by using the `Insert` menu.\n",
    "    * In command mode, you can also press `a` to create a new cell above the current cell or `b` to create a new cell below.\n",
    "* Write R script by selecting the option \"Code\" from the dropdown list, or write text by selecting \"Markdown\"\n",
    "* Run code by selecting a cell (edit and command mode both work) and pressing \"Run\"\n",
    "    * You can also use `control+enter` (it may be `command+enter` on mac) to run a cell, or `shift+enter` to run a cell and automatically select the next cell\n",
    "    * When code is running, you will see an asterisk * to the left of the cell. When it is finished, you will see a number (ex. In [4] is finished; In [*] is still running).\n",
    "* To clear your coding output, select Cell=>All Output=>Clear from the toolbar at the top of the page\n",
    "* Jupyter notebooks automatically save periodically, but you can also force it to save with `control+s` (or `command+s`), or by clicking the disk icon under `File`.\n",
    "    * You can view the save status at the top of the page next to the notebook name\n",
    "* **IMPORTANT: Close a notebook by selecting `File`=>`Close and Halt`. Don't just close the tab! You might lose your progress.**\n",
    "* Some useful guides are here:\n",
    "    * [Markdown Cheat Sheet](https://www.markdownguide.org/cheat-sheet/) for pretty text like in this cell\n",
    "    * [Jupyter Notebook Keyboard Shortcuts](https://towardsdatascience.com/jypyter-notebook-shortcuts-bf0101a98330)\n",
    "        * You can also access keyboard shortcuts by pressing `h` while in command mode\n",
    "    * Your GSIs refer to these all the time!\n",
    "\n",
    "Note: This introduction is based off material originally created by Kayleigh Barnes"
   ]
  },
  {
   "cell_type": "markdown",
   "id": "5e57d5dd",
   "metadata": {},
   "source": [
    "## R Basics"
   ]
  },
  {
   "cell_type": "code",
   "execution_count": null,
   "id": "4fd42bf9",
   "metadata": {},
   "outputs": [],
   "source": [
    "# Note that this is a Code cell.\n",
    "# The hashtag (or octothorpe, if you're old-fashioned) is how you tell R that what follows is\n",
    "# a \"comment\" and will not be interpreted as code. They are just references for you and us.\n",
    "\n",
    "# Clear the workspace, this removes all data and numbers you have stored or saved in R\n",
    "rm(list = ls())\n",
    "\n",
    "# The help function, using ? or help() before a command will bring up information on what the command does\n",
    "?setwd\n",
    "help(setwd)\n",
    "\n",
    "# Run these two commands by clicking `Run` at the top of the screen or by pressing \n",
    "# `control+enter`"
   ]
  },
  {
   "cell_type": "code",
   "execution_count": null,
   "id": "aa6b7055",
   "metadata": {},
   "outputs": [],
   "source": [
    "#The working directory is the location that R will look for data in\n",
    "getwd()\n",
    "\n",
    "# If you are working locally on your own computer (rather than in a Jupyter Notebook), you may\n",
    "# need to set the working directory.\n",
    "# Online, you do not need to do anything.\n",
    "# This is the same as telling your computer to look in a documents folder when uploading something.\n",
    "# Uncomment the setwd line below and replace your_folder_directory within the single quotes with \n",
    "# the directory you have saved your files in.\n",
    "# For example, you might use setwd('/Users/julien/Documents/Econ130/Coding')\n",
    "\n",
    "# setwd('your_folder_directory')"
   ]
  },
  {
   "cell_type": "code",
   "execution_count": null,
   "id": "e4aaa925",
   "metadata": {},
   "outputs": [],
   "source": [
    "# Now let's read in a .csv file containing data.\n",
    "# We will name it minwage_data, which is how we will tell R to use it\n",
    "# R uses an arrow \"<-\" to assign values to variables, which is a little different from other programming\n",
    "# languages, which usually use the \"=\" sign.\n",
    "\n",
    "minwage_data <- read.csv('nj_min_wage.csv')"
   ]
  },
  {
   "cell_type": "markdown",
   "id": "22166562",
   "metadata": {},
   "source": [
    "Notice that there is no ouput from the code that reads in the data. Unlike Excel, R stores the data in the background and we need to use specific comands to interact with it. \n",
    "\n",
    "Once it's read in, we can use several commands to describe the data."
   ]
  },
  {
   "cell_type": "code",
   "execution_count": null,
   "id": "8f1dbeb8",
   "metadata": {},
   "outputs": [],
   "source": [
    "# The str (\"structure\") command shows you the structure of the data along with some examples\n",
    "str(minwage_data)"
   ]
  },
  {
   "cell_type": "code",
   "execution_count": null,
   "id": "93c08166",
   "metadata": {},
   "outputs": [],
   "source": [
    "# The head command will show you a snapshot of the data in an Excel-like format\n",
    "head(minwage_data)"
   ]
  },
  {
   "cell_type": "code",
   "execution_count": null,
   "id": "2c830b83",
   "metadata": {},
   "outputs": [],
   "source": [
    "# The number of observations is equal to the number of rows.\n",
    "\n",
    "nrow(minwage_data)"
   ]
  },
  {
   "cell_type": "markdown",
   "id": "833d5b34",
   "metadata": {},
   "source": [
    "## Compare the summarizing commands `summary` and `table`"
   ]
  },
  {
   "cell_type": "code",
   "execution_count": null,
   "id": "12c3bf63",
   "metadata": {},
   "outputs": [],
   "source": [
    "# You can get some summary statistics for the variables using the summary command\n",
    "summary(minwage_data)"
   ]
  },
  {
   "cell_type": "code",
   "execution_count": null,
   "id": "6be39a72",
   "metadata": {},
   "outputs": [],
   "source": [
    "# You can also do it for an individual variable. Here, we look at the starting wage, wage_st,\n",
    "# and chain identifier, chain.\n",
    "\n",
    "# You have to tell R which dataset to look in first. The $ sign tells it you are moving on\n",
    "# from the dataset name to the variable name.\n",
    "\n",
    "summary(minwage_data$wage_st)\n",
    "summary(minwage_data$chain)"
   ]
  },
  {
   "cell_type": "code",
   "execution_count": null,
   "id": "0f20cfeb",
   "metadata": {},
   "outputs": [],
   "source": [
    "# The table command provides a different kind of summary. Can you tell what it is doing?\n",
    "\n",
    "table(minwage_data$wage_st)\n",
    "table(minwage_data$chain)"
   ]
  },
  {
   "cell_type": "code",
   "execution_count": null,
   "id": "cf19abb2",
   "metadata": {},
   "outputs": [],
   "source": [
    "# What if you want to look at summary statistics for a subset of observations?\n",
    "# Let's compare summary statistics for wage_st when interview == 1 and interview == 2\n",
    "# (which means before and after the minimum wage increase)\n",
    "\n",
    "summary(minwage_data[which(minwage_data$interview == 1),]$wage_st)\n",
    "summary(minwage_data[which(minwage_data$interview == 2),]$wage_st)"
   ]
  },
  {
   "cell_type": "code",
   "execution_count": null,
   "id": "a947bcfa",
   "metadata": {},
   "outputs": [],
   "source": [
    "# And also examine chain composition for before and after -- note use of & for \"and\": both conditions\n",
    "# need to be true.\n",
    "table(minwage_data[which(minwage_data$interview == 1),]$chain)\n",
    "table(minwage_data[which(minwage_data$interview == 2),]$chain)\n",
    "table(minwage_data[which(minwage_data$interview == 1 & minwage_data$shore == 0),]$chain)"
   ]
  },
  {
   "cell_type": "markdown",
   "id": "b3b8fbe4",
   "metadata": {},
   "source": [
    "## Clean the data\n",
    "In the real world, data is messy and there may be some mistakes that you (the researcher) will have to discover and fix"
   ]
  },
  {
   "cell_type": "code",
   "execution_count": null,
   "id": "45b450b0",
   "metadata": {},
   "outputs": [],
   "source": [
    "table(minwage_data$ncalls, useNA = \"ifany\")\n",
    "\n",
    "table(minwage_data[which(minwage_data$interview == 1),]$ncalls, useNA = \"ifany\")\n",
    "table(minwage_data[which(minwage_data$interview == 2),]$ncalls, useNA = \"ifany\")"
   ]
  },
  {
   "cell_type": "code",
   "execution_count": null,
   "id": "0a989bbd",
   "metadata": {},
   "outputs": [],
   "source": [
    "# Let's assume that any missing values are equal to 0 and make that change.\n",
    "minwage_data$ncalls[is.na(minwage_data$ncalls)] <- 0\n",
    "\n",
    "# Verify we've done it correctly\n",
    "table(minwage_data[which(minwage_data$interview == 1),]$ncalls, useNA = \"ifany\")\n",
    "table(minwage_data[which(minwage_data$interview == 2),]$ncalls, useNA = \"ifany\")"
   ]
  },
  {
   "cell_type": "markdown",
   "id": "8cbe9e3f",
   "metadata": {},
   "source": [
    "## Create some variables\n",
    "We will create variables indicating PA and NJ stores. I'll show you two ways to do this."
   ]
  },
  {
   "cell_type": "code",
   "execution_count": null,
   "id": "32fa9ace",
   "metadata": {},
   "outputs": [],
   "source": [
    "# Method 1: create a variable, set all values equal to zero, and replace with one as appropriate.\n",
    "minwage_data$pa <- 0\n",
    "minwage_data$pa[minwage_data$pa1 == 1] <- 1\n",
    "minwage_data$pa[minwage_data$pa2 == 1] <- 1\n",
    "\n",
    "# Method 2: take advantage of the fact that all regions are {0, 1} binary variables\n",
    "minwage_data$nj <- minwage_data$southj + minwage_data$northj + minwage_data$centralj + minwage_data$shore"
   ]
  },
  {
   "cell_type": "code",
   "execution_count": null,
   "id": "55dbe064",
   "metadata": {},
   "outputs": [],
   "source": [
    "# Let's check our work. What should be true about the means? What about the minimum and maximum?\n",
    "summary(minwage_data$nj)\n",
    "summary(minwage_data$pa)"
   ]
  },
  {
   "cell_type": "code",
   "execution_count": null,
   "id": "912be8a2",
   "metadata": {
    "scrolled": true
   },
   "outputs": [],
   "source": [
    "# Uh-oh. We messed up. \"Shore\" is in addition to NJ regions.\n",
    "minwage_data$nj <- minwage_data$southj + minwage_data$northj + minwage_data$centralj\n",
    "\n",
    "# And here's perhaps an easier way to check our work\n",
    "table(minwage_data$nj)\n",
    "table(minwage_data$pa)"
   ]
  },
  {
   "cell_type": "code",
   "execution_count": null,
   "id": "14c2c47e",
   "metadata": {},
   "outputs": [],
   "source": [
    "# We are going to exclude stores on the Jersey Shore in our analysis because we think that\n",
    "# they may be different from other stores: the pre-period is in March and the post-period is in\n",
    "# November, and we might worry that seasonal patterns from beach tourism might affect the shore\n",
    "# stores differently, making them poor comparisons to \"typical\" stores.\n",
    "minwage_no_shore <- minwage_data[which(minwage_data$shore != 1),]\n",
    "\n",
    "table(minwage_no_shore$nj)\n",
    "table(minwage_no_shore$pa)\n",
    "\n",
    "# And let's save this dataset.\n",
    "write.csv(minwage_no_shore,\"minwage_no_shore.csv\",row.names = FALSE)"
   ]
  },
  {
   "cell_type": "markdown",
   "id": "91521e39",
   "metadata": {},
   "source": [
    "## Plotting the data\n",
    "Now, let's make some histograms showing the wage distribution before and after."
   ]
  },
  {
   "cell_type": "code",
   "execution_count": null,
   "id": "5ffaa51e",
   "metadata": {},
   "outputs": [],
   "source": [
    "# It is easier to define some additional variables so we don't have to keep typing \"which\" commands.\n",
    "# This is also good coding practice because it makes your code easier to read.\n",
    "pre_all  <- minwage_no_shore[which(minwage_no_shore$interview == 1),]$wage_st\n",
    "post_all <- minwage_no_shore[which(minwage_no_shore$interview == 2),]$wage_st\n",
    "\n",
    "hist(pre_all, main = \"Starting Wages, Pre-period\")\n",
    "hist(post_all, main = \"Starting Wages, Post-period\")"
   ]
  },
  {
   "cell_type": "code",
   "execution_count": null,
   "id": "0805bc63",
   "metadata": {},
   "outputs": [],
   "source": [
    "# What about overlaying two histograms? How might we do that?\n",
    "?hist\n",
    "# The help command is very detailed and isn't super helpful for us.\n",
    "# Let's try Google.\n",
    "\n",
    "# Google \"R histogram two variables\" (without the quotes) and let's see what comes up.\n",
    "# Google is your friend! I Google things all the time, and the community is really helpful.\n",
    "\n",
    "# In September 2022, the first result for me was really helpful!\n",
    "# https://www.statology.org/histogram-two-variables-in-r/"
   ]
  },
  {
   "cell_type": "code",
   "execution_count": null,
   "id": "81116a01",
   "metadata": {},
   "outputs": [],
   "source": [
    "# Below is what we can do, with guidance from the first result\n",
    "# First, we will make four datasets, pre and post with NJ and PA:\n",
    "pre_nj <- minwage_no_shore[which(minwage_no_shore$interview == 1 & minwage_no_shore$nj == 1),]$wage_st\n",
    "pre_pa <- minwage_no_shore[which(minwage_no_shore$interview == 1 & minwage_no_shore$nj == 0),]$wage_st\n",
    "\n",
    "post_nj <- minwage_no_shore[which(minwage_no_shore$interview == 2 & minwage_no_shore$nj == 1),]$wage_st\n",
    "post_pa <- minwage_no_shore[which(minwage_no_shore$interview == 2 & minwage_no_shore$nj == 0),]$wage_st\n",
    "\n",
    "hist(pre_nj, col=rgb(0,0,1,0.2), freq = FALSE, xlim=c(4, 6.5),\n",
    "     xlab='Wage', ylab='Density', main='Pre-Period Starting Wages')\n",
    "hist(pre_pa, col=rgb(1,0,0,0.2), freq = FALSE, add=TRUE)\n",
    "legend('topright', c('NJ', 'PA'),\n",
    "       fill=c(rgb(0,0,1,0.2), rgb(1,0,0,0.2)))\n",
    "\n",
    "hist(post_nj, col=rgb(0,0,1,0.2), freq = FALSE, xlim=c(4, 6.5), breaks=seq(4,6.5,0.2),\n",
    "     xlab='Wage', ylab='Density', main='Post-Period Starting Wages')\n",
    "hist(post_pa, col=rgb(1,0,0,0.2), freq = FALSE, breaks=seq(4,6.5,0.2), add=TRUE)\n",
    "legend('topright', c('NJ', 'PA'),\n",
    "       fill=c(rgb(0,0,1,0.2), rgb(1,0,0,0.2)))"
   ]
  },
  {
   "cell_type": "markdown",
   "id": "f078641a",
   "metadata": {},
   "source": [
    "Make sure you quit using `File`--> `Close and Halt` or you may lose your work!"
   ]
  }
 ],
 "metadata": {
  "kernelspec": {
   "display_name": "R",
   "language": "R",
   "name": "ir"
  },
  "language_info": {
   "codemirror_mode": "r",
   "file_extension": ".r",
   "mimetype": "text/x-r-source",
   "name": "R",
   "pygments_lexer": "r",
   "version": "4.2.1"
  }
 },
 "nbformat": 4,
 "nbformat_minor": 5
}
