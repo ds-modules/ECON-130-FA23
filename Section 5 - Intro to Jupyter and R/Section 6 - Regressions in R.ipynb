{
 "cells": [
  {
   "cell_type": "markdown",
   "id": "361f5912",
   "metadata": {},
   "source": [
    "# Coding Section 2\n",
    "## Econ 130\n",
    "GSIs: Sarah Albert and Bryan Chu\n",
    "\n",
    "### Goals for today\n",
    "* Do some data analysis, building up to a diff-in-diff\n",
    "* We will start with what we did in the previous section, but we will not assume any knowledge other than what we covered.\n"
   ]
  },
  {
   "cell_type": "markdown",
   "id": "3d228aff",
   "metadata": {},
   "source": [
    "Often times, user written open-source packages are needed for specific functionality in R (e.g. nice graphics). However, we need to manually install these packages (once) and load them at the beginning of every script. Packages have been pre-installed in Jupyter notebooks.  \n",
    "\n",
    "*If you are wondering why a command you've used before is no longer working, it may be because you haven't loaded the package.*"
   ]
  },
  {
   "cell_type": "code",
   "execution_count": null,
   "id": "1da185a9",
   "metadata": {},
   "outputs": [],
   "source": [
    "# You only need to install binsreg once (this is a warning message that is safe to ignore),\n",
    "# but you will need to call the \"library\" command each time.\n",
    "\n",
    "install.packages('binsreg')\n",
    "library('binsreg')\n"
   ]
  },
  {
   "cell_type": "code",
   "execution_count": null,
   "id": "3b320747",
   "metadata": {},
   "outputs": [],
   "source": [
    "# Clear any existing output and data stored in memory\n",
    "rm(list = ls())\n",
    "\n",
    "# Read in the data that we constructed last time\n",
    "mw_no_shore <- read.csv('minwage_no_shore.csv')"
   ]
  },
  {
   "cell_type": "code",
   "execution_count": null,
   "id": "eafba1a1",
   "metadata": {},
   "outputs": [],
   "source": [
    "# First, let's try to visualize the relationship between employment (full_time)\n",
    "# and wages (wage_st, the starting wage). We'll focus on the relationship\n",
    "# in period 1\n",
    "\n",
    "# First, we'll try a scatterplot\n",
    "pre_data <- mw_no_shore[which(mw_no_shore$interview==1),]\n",
    "plot(pre_data$wage_st,pre_data$full_time)\n"
   ]
  },
  {
   "cell_type": "code",
   "execution_count": null,
   "id": "24faaa58",
   "metadata": {},
   "outputs": [],
   "source": [
    "#It's hard to interpret! Let's add a line of best fit\n",
    "plot(pre_data$wage_st,pre_data$full_time)\n",
    "abline(lm(pre_data$full_time~pre_data$wage_st), col=\"red\")\n",
    "\n",
    "# Note that it's plot(x,y) but linear model lm(y,x)!"
   ]
  },
  {
   "cell_type": "code",
   "execution_count": null,
   "id": "13eef98d",
   "metadata": {},
   "outputs": [],
   "source": [
    "# The line of best fit is upward-sloping, indicating that in the cross-section,\n",
    "# higher wages are correlated with higher employment. But the figure is still\n",
    "# a bit difficult to interpret, so let's try a binscatter. \n",
    "# We'll also add a title and a subtitle and label our axes\n",
    "\n",
    "binsglm(pre_data$full_time, pre_data$wage_st, polyreg=1)\n",
    "\n",
    "# When you run this command, you will see a lot of warning messages in a red rectangle.\n",
    "# In general, you do not want the code you submit to have these errors, but your GSIs\n",
    "# have done a lot of work and Googling and cannot figure out why these still appear.\n",
    "# You may ignore warning messages when you run the binsglm command, but be wary if\n",
    "# you have warning messages for other things that you run."
   ]
  },
  {
   "cell_type": "code",
   "execution_count": null,
   "id": "9f71a33a",
   "metadata": {},
   "outputs": [],
   "source": [
    "# How does the post period look?\n",
    "post_data <- mw_no_shore[which(mw_no_shore$interview==2),]\n",
    "binsglm(post_data$full_time, post_data$wage_st, polyreg=1)"
   ]
  },
  {
   "cell_type": "markdown",
   "id": "bdba33bd",
   "metadata": {},
   "source": [
    "## Correlations"
   ]
  },
  {
   "cell_type": "code",
   "execution_count": null,
   "id": "f52c1838",
   "metadata": {
    "scrolled": true
   },
   "outputs": [],
   "source": [
    "# What is the correlation between full-time and part-time employees, and wages? How do we read this table?\n",
    "# Note: the user = \"complete.obs\" is necessary in order to tell R to ignore missing data. Otherwise it will\n",
    "# return a lot of NA's (you can try it if you want!).\n",
    "\n",
    "cor(mw_no_shore[, c('full_time','part_time','wage_st')], use = \"complete.obs\")"
   ]
  },
  {
   "cell_type": "code",
   "execution_count": null,
   "id": "5aef6710",
   "metadata": {},
   "outputs": [],
   "source": [
    "# Recall (from lecture) that the correlation coefficient is not the same as the regression \n",
    "# coefficient, although they are related. (If you've taken ECON 140/141, you'll know why. \n",
    "# If not, don't worry about it!) For example,\n",
    "\n",
    "m<-lm(mw_no_shore$full_time~mw_no_shore$part_time)\n",
    "\n",
    "summary(m)"
   ]
  },
  {
   "cell_type": "markdown",
   "id": "2ce9baac",
   "metadata": {},
   "source": [
    "## Diff-in-Diff Table\n",
    "\n",
    "For a diff-in-diff, we need to calculate four means: two \"pre\" means (one each for NJ and for PA) and two \"post\" means for full-time employment.\n",
    "\n",
    "Let's make things more intuitive by generating some new variables \"treated\" and \"post.\""
   ]
  },
  {
   "cell_type": "code",
   "execution_count": null,
   "id": "161347f9",
   "metadata": {},
   "outputs": [],
   "source": [
    "# Treated = 1 if NJ = 1 and 0 otherwise\n",
    "mw_no_shore$treated <- 0\n",
    "mw_no_shore$treated[mw_no_shore$nj == 1] <- 1 \n",
    "\n",
    "# Post = 1 if interview = 2 and 0 otherwise\n",
    "mw_no_shore$post <- 0\n",
    "mw_no_shore$post[mw_no_shore$interview == 2] <- 1\n",
    "\n",
    "# We'll use the print command to help us organize our output\n",
    "\n",
    "print(\"Pre; NJ then PA\")\n",
    "summary(mw_no_shore$full_time[mw_no_shore$nj == 1 & mw_no_shore$post == 0])\n",
    "summary(mw_no_shore$full_time[mw_no_shore$nj == 0 & mw_no_shore$post == 0])\n",
    "\n",
    "print(\"Post; NJ then PA\")\n",
    "summary(mw_no_shore$full_time[mw_no_shore$nj == 1 & mw_no_shore$post == 1])\n",
    "summary(mw_no_shore$full_time[mw_no_shore$nj == 0 & mw_no_shore$post == 1])"
   ]
  },
  {
   "cell_type": "markdown",
   "id": "23501533",
   "metadata": {},
   "source": [
    "## Diff-in-Diff Regression"
   ]
  },
  {
   "cell_type": "code",
   "execution_count": null,
   "id": "c387810c",
   "metadata": {},
   "outputs": [],
   "source": [
    "# Now let's see how we can get the differences with regressions\n",
    "\n",
    "# Here's a naive regression: a single difference (NJ pre vs. NJ post)\n",
    "nj_single <- lm(full_time ~ post, data = mw_no_shore[which(mw_no_shore$nj==1),])\n",
    "summary(nj_single)\n",
    "\n",
    "# Which difference in means does this correspond to? Is it causal?"
   ]
  },
  {
   "cell_type": "code",
   "execution_count": null,
   "id": "b7e252e6",
   "metadata": {},
   "outputs": [],
   "source": [
    "# What about this version?\n",
    "post_single <- lm(full_time ~ treated, data = mw_no_shore[which(mw_no_shore$post==1),])\n",
    "summary(post_single)"
   ]
  },
  {
   "cell_type": "code",
   "execution_count": null,
   "id": "56380e2f",
   "metadata": {},
   "outputs": [],
   "source": [
    "# Now let's do the diff-in-diff\n",
    "\n",
    "mw_no_shore$treatedxpost <- mw_no_shore$treated * mw_no_shore$post\n",
    "\n",
    "diff_in_diff <- lm(full_time ~ treated + post + treatedxpost, data = mw_no_shore)\n",
    "summary(diff_in_diff)\n",
    "\n",
    "# Does this look like your table? What is the advantage of doing things this way\n",
    "# vs. in a table? Are there disadvantages?"
   ]
  },
  {
   "cell_type": "code",
   "execution_count": null,
   "id": "c41a80ad",
   "metadata": {},
   "outputs": [],
   "source": [
    "# How do we feel about this specification?\n",
    "# Is there anything else you want to control for? Do we have these variables?\n",
    "\n",
    "# I want to control for chain. Here's a nice way to do it without manually generating\n",
    "# a lot of variables:\n",
    "\n",
    "w_chain <- lm(full_time ~ treated + post + treatedxpost + factor(chain), data = mw_no_shore)\n",
    "summary(w_chain)\n",
    "\n",
    "# This set of indicator variables for chain are often referred to as \"factor variables,\" which is\n",
    "# where the R command gets it's name. I figured out how to do this by Googling \"R ols factor variables\"\n",
    "# and reading what was the first result for me (from the UCLA stats department)"
   ]
  },
  {
   "cell_type": "code",
   "execution_count": null,
   "id": "c638d401",
   "metadata": {},
   "outputs": [],
   "source": [
    "# What other outcome variables are you interested in that might be related\n",
    "# to economic hypotheses about raising the minimum wage? Do we have data to test this?"
   ]
  }
 ],
 "metadata": {
  "kernelspec": {
   "display_name": "R",
   "language": "R",
   "name": "ir"
  },
  "language_info": {
   "codemirror_mode": "r",
   "file_extension": ".r",
   "mimetype": "text/x-r-source",
   "name": "R",
   "pygments_lexer": "r",
   "version": "4.2.1"
  }
 },
 "nbformat": 4,
 "nbformat_minor": 5
}
